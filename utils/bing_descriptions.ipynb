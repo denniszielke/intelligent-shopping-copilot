{
 "cells": [
  {
   "cell_type": "code",
   "execution_count": null,
   "metadata": {},
   "outputs": [],
   "source": [
    "import pandas as pd\n",
    "import numpy as np\n",
    "categories_df = pd.read_csv('../data/amazon_categories.csv')\n",
    "products_df = pd.read_csv('../data/amazon_products.csv')\n",
    "data = pd.merge(categories_df, products_df, left_on='id', right_on='category_id')\n",
    "data = data.drop('id', axis=1)"
   ]
  },
  {
   "cell_type": "code",
   "execution_count": null,
   "metadata": {},
   "outputs": [],
   "source": [
    "data.head(10)"
   ]
  },
  {
   "cell_type": "code",
   "execution_count": null,
   "metadata": {},
   "outputs": [],
   "source": [
    "pd.options.display.max_rows = 4000\n",
    "print(data['category_id'].value_counts())"
   ]
  },
  {
   "cell_type": "code",
   "execution_count": null,
   "metadata": {},
   "outputs": [],
   "source": [
    "category_id_to_keep_str = ['45','46','47','48','49','50','52','71','72','84','90','91','97','101','103','104','105','107','108','109','110','111','112','113','114','116','118','120','121','122','123','173','174', '270']\n",
    "category_id_to_keep_str = ['46']\n",
    "category_id_to_keep = [int(id) for id in category_id_to_keep_str]\n",
    "filtered_data = data[data['category_id'].isin(category_id_to_keep)]\n",
    "filtered_data.info()"
   ]
  },
  {
   "cell_type": "code",
   "execution_count": null,
   "metadata": {},
   "outputs": [],
   "source": [
    "filtered_data.head(20)"
   ]
  },
  {
   "cell_type": "code",
   "execution_count": null,
   "metadata": {},
   "outputs": [],
   "source": [
    "print(filtered_data['boughtInLastMonth'].value_counts())"
   ]
  },
  {
   "cell_type": "code",
   "execution_count": null,
   "metadata": {},
   "outputs": [],
   "source": [
    "filtered_data = filtered_data[~filtered_data['boughtInLastMonth'].isin([0])]\n"
   ]
  },
  {
   "cell_type": "code",
   "execution_count": null,
   "metadata": {},
   "outputs": [],
   "source": [
    "filtered_data.info()"
   ]
  },
  {
   "cell_type": "code",
   "execution_count": null,
   "metadata": {},
   "outputs": [],
   "source": [
    "filtered_data.head(20)"
   ]
  },
  {
   "cell_type": "code",
   "execution_count": null,
   "metadata": {},
   "outputs": [],
   "source": [
    "import os\n",
    "from openai import AzureOpenAI\n",
    "from dotenv import load_dotenv\n",
    "import json\n",
    "\n",
    "load_dotenv()\n",
    "\n",
    "client = AzureOpenAI(\n",
    "    azure_endpoint = os.getenv(\"AZURE_OPENAI_ENDPOINT\"),\n",
    "    api_key = os.getenv(\"AZURE_OPENAI_API_KEY\"),\n",
    "    api_version = os.getenv(\"AZURE_OPENAI_VERSION\")\n",
    ")\n",
    "deployment_name = os.getenv(\"AZURE_OPENAI_COMPLETION_DEPLOYMENT_NAME\")\n",
    "model_name = os.getenv(\"AZURE_OPENAI_COMPLETION_MODEL\")\n",
    "\n",
    "def create_summary(name, content):\n",
    "    prompt = f\"Create a simple but correct summary of an online shop product description based on the following details in less than 500 characters. Remove rating and pricing information and keep color, size and relevant configuration. If details are available describe how the product can be used and who the ideal customer for this product is. Do not add or use information that is not part of the prompt. Your description should be in english. This is the name of the product: {name} This are the details: {content}\"\n",
    "\n",
    "    response = client.chat.completions.create(\n",
    "        model = model_name, \n",
    "        temperature=1.0,\n",
    "        messages = [{\"role\" : \"assistant\", \"content\" : prompt}],\n",
    "    )\n",
    "    return response.choices[0].message.content\n"
   ]
  },
  {
   "cell_type": "code",
   "execution_count": null,
   "metadata": {},
   "outputs": [],
   "source": [
    "import requests\n",
    "import json\n",
    "\n",
    "def web_search_basic(\n",
    "    name, subscription_key, auth_header_name=\"Ocp-Apim-Subscription-Key\", mkt=\"en-us\"    \n",
    "):\n",
    "    \"\"\"Bing Web Search Basic REST call\n",
    "\n",
    "    This sample makes a call to the Bing Web Search API with a text query and returns relevant pages\n",
    "    Documentation: https://docs.microsoft.com/en-us/bing/search-apis/bing-web-search/overview\n",
    "\n",
    "    May throw HTTPError in case of invalid parameters or a server error.\n",
    "\n",
    "    Args:\n",
    "        subscription_key (str): Azure subscription key of Bing Web Search service\n",
    "        auth_header_name (str): Name of the authorization header\n",
    "        query (str): Query to search for\n",
    "        mkt (str): Market to search in\n",
    "    \"\"\"\n",
    "    # Construct a request\n",
    "    endpoint = \"https://api.bing.microsoft.com/v7.0/search\"\n",
    "    params = {\"q\": \"site:amazon.de what is the description of \" + name, \"mkt\": mkt}\n",
    "    headers = {auth_header_name: subscription_key}\n",
    "\n",
    "    # Call the API\n",
    "    try:\n",
    "        response = requests.get(endpoint, headers=headers, params=params, timeout=10)\n",
    "        response.raise_for_status()\n",
    "\n",
    "        json_response = response.json()\n",
    "\n",
    "        description = json_response[\"webPages\"][\"value\"][0][\"snippet\"]\n",
    "\n",
    "        for item in json_response[\"webPages\"][\"value\"]:           \n",
    "            description = item[\"snippet\"] + \" \"\n",
    "\n",
    "        summary = create_summary(name, description)\n",
    "        summary = summary.replace(\"\\n\", \"\")\n",
    "        return summary\n",
    "    except Exception as ex:\n",
    "        print(ex)\n",
    "        print(\"++The above exception was thrown and handled succesfully++\")\n",
    "        return response\n"
   ]
  },
  {
   "cell_type": "code",
   "execution_count": null,
   "metadata": {},
   "outputs": [],
   "source": [
    "import time, sys\n",
    "from IPython.display import clear_output\n",
    "\n",
    "def update_progress(progress):\n",
    "    bar_length = 20\n",
    "    if isinstance(progress, int):\n",
    "        progress = float(progress)\n",
    "    if not isinstance(progress, float):\n",
    "        progress = 0\n",
    "    if progress < 0:\n",
    "        progress = 0\n",
    "    if progress >= 1:\n",
    "        progress = 1\n",
    "\n",
    "    block = int(round(bar_length * progress))\n",
    "    clear_output(wait = True)\n",
    "    text = \"Progress: [{0}] {1:.1f}%\".format( \"#\" * block + \"-\" * (bar_length - block), progress * 100)\n",
    "    print(text)\n",
    "\n",
    "\n",
    "subscription_key = os.getenv(\"BING_SUBSCRIPTION_KEY\")\n",
    "\n",
    "print(len(filtered_data))\n",
    "\n",
    "limit = 300\n",
    "counter = 0\n",
    "# loop through the filtered data and search for the description of each product\n",
    "for ind in filtered_data.head(limit).index:\n",
    "    name = filtered_data['title'][ind]\n",
    "\n",
    "    # print(name)\n",
    "\n",
    "    description = web_search_basic(name, subscription_key)\n",
    "\n",
    "    filtered_data.at[ind, 'description'] = description\n",
    "    counter = counter + 1\n",
    "    update_progress(counter / limit)\n",
    "\n",
    "\n",
    "print(\"Processing complete!\")\n",
    "\n",
    "filtered_data.to_csv('../data/filtered_dataset.csv', index=False)"
   ]
  },
  {
   "cell_type": "code",
   "execution_count": null,
   "metadata": {},
   "outputs": [],
   "source": [
    "filtered_data.to_csv('../data/filtered_dataset.csv', index=False)"
   ]
  }
 ],
 "metadata": {
  "kernelspec": {
   "display_name": "navigator",
   "language": "python",
   "name": "python3"
  },
  "language_info": {
   "codemirror_mode": {
    "name": "ipython",
    "version": 3
   },
   "file_extension": ".py",
   "mimetype": "text/x-python",
   "name": "python",
   "nbconvert_exporter": "python",
   "pygments_lexer": "ipython3",
   "version": "3.12.4"
  }
 },
 "nbformat": 4,
 "nbformat_minor": 2
}
